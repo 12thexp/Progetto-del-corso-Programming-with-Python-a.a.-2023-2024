{
 "cells": [
  {
   "cell_type": "markdown",
   "metadata": {},
   "source": [
    "# Il giro del mondo in 80 giorni\n",
    "\n",
    "Consideriamo il dataset che descrive alcune delle principali città del mondo. Supponiamo che sia sempre possibile viaggiare da ciascuna città alle 3 città più vicine e che tale viaggio richieda 2 ore per la città più vicina, 4 ore per la seconda città più vicina e 8 ore per la terza città più vicina. Inoltre, il viaggio dura altre 2 ore se la città di destinazione si trova in un Paese diverso da quello di partenza e altre 2 ore se la città di destinazione ha più di 200.000 abitanti.\n",
    "\n",
    "Partendo da Londra e viaggiando sempre verso est, è possibile fare il giro del mondo tornando a Londra in 80 giorni? Quanto tempo richiede almeno?"
   ]
  },
  {
   "cell_type": "code",
   "execution_count": 1,
   "metadata": {},
   "outputs": [],
   "source": [
    "import geopandas as gpd\n",
    "import geopy.distance\n",
    "import numpy as np\n",
    "import pandas as pd\n",
    "import plotly.express as px\n",
    "import heapq\n",
    "import copy\n",
    "\n",
    "from models import City\n",
    "from models import prune_cities, dijkstra, normalize_lng"
   ]
  },
  {
   "cell_type": "markdown",
   "metadata": {},
   "source": [
    "<!-- La mia soluzione e' basata sulla creazione di un grafo di oggetti City a cui si applica l'algoritmo di Dijkstra\n",
    "per trovare il cammino minimo da Londra a Londra, viaggiando sempre verso est. Eseguo il programma su un dataset ridotto\n",
    "(ho estratto un sample casuale)\n",
    "\n",
    "\n",
    "Gli oggetti City:\n",
    "Ciascun oggetto contiene\n",
    "- l'anagrafica della citta' (nome, stato, coordinate, popolazione)\n",
    "- le informazioni che la identificano come nodo nel grafo (la lista di citta' precedenti, ovvero da cui posso raggiungerla;\n",
    "e la lista delle 3 citta' successive, ovvero quelle che posso raggiungere da qui. Entrambe le liste sono liste di tuple\n",
    "in quanto contengono anche il numero di ore necessarie allo spostamento)\n",
    "\n",
    "I metodi della classe sono principalmente orientati alla creazione e al calcolo di questi ultimi campi.\n",
    "\n",
    "\n",
    "Il grafo:\n",
    "Si tratta di un grafo pesato, orientato e connesso, rappresentato con liste di adiacenza (le 3 citta' piu' vicine). I nodi\n",
    "sono oggetti di tipo City\n",
    "Il peso di ciascun arco corrisponde al numero di ore necessarie per muoversi da un nodo all'altro, calcolate come da consegna -->"
   ]
  },
  {
   "cell_type": "code",
   "execution_count": 2,
   "metadata": {},
   "outputs": [],
   "source": [
    "# carico il dataset\n",
    "df = pd.read_excel('samplecities.xlsx')"
   ]
  },
  {
   "cell_type": "code",
   "execution_count": 3,
   "metadata": {},
   "outputs": [],
   "source": [
    "# Osservo che la longitudine, per come e' definita, non e' molto maneggevole\n",
    "# Assume infatti valori negli intervalli [0, 180] e [-180, 0], cambiando segno\n",
    "# quando si passa dall'International Date Line (e visto che la Longitudine e' 0 in corrispondenza\n",
    "# del meridiano di Greenwich, questo cambio di segno cade proprio in mezzo al nostro percorso.)\n",
    "\n",
    "# Definisco quindi una funzione che 'trasla' la longitudine in modo da avere una misura\n",
    "# che prende valori positivi in [0, 360]. Servira' per semplificare il controllo della condizione\n",
    "# di viaggiare sempre verso est.\n",
    "\n",
    "# riempo la colonna corrispondente nel dataframe\n",
    "df['east_of_london'] = df['lng'].apply(normalize_lng)\n",
    "\n",
    "# inserisco londra_end\n",
    "df.loc[len(df.index)] = ['London', 51.5072, -0.1275, 'United Kingdom', 'GBR', 'London, City of', 10979000.0, 360.0000]  \n",
    "\n",
    "# ordino per distanza a est da londra\n",
    "df = df.sort_values('east_of_london')\n",
    "\n",
    "# reset degli indici in base al nuovo ordine\n",
    "df = df.reset_index(drop=True)\n"
   ]
  },
  {
   "cell_type": "code",
   "execution_count": 4,
   "metadata": {},
   "outputs": [
    {
     "data": {
      "text/html": [
       "<div>\n",
       "<style scoped>\n",
       "    .dataframe tbody tr th:only-of-type {\n",
       "        vertical-align: middle;\n",
       "    }\n",
       "\n",
       "    .dataframe tbody tr th {\n",
       "        vertical-align: top;\n",
       "    }\n",
       "\n",
       "    .dataframe thead th {\n",
       "        text-align: right;\n",
       "    }\n",
       "</style>\n",
       "<table border=\"1\" class=\"dataframe\">\n",
       "  <thead>\n",
       "    <tr style=\"text-align: right;\">\n",
       "      <th></th>\n",
       "      <th>city</th>\n",
       "      <th>lat</th>\n",
       "      <th>lng</th>\n",
       "      <th>country</th>\n",
       "      <th>iso3</th>\n",
       "      <th>admin_name</th>\n",
       "      <th>population</th>\n",
       "      <th>east_of_london</th>\n",
       "    </tr>\n",
       "  </thead>\n",
       "  <tbody>\n",
       "    <tr>\n",
       "      <th>0</th>\n",
       "      <td>London</td>\n",
       "      <td>51.5072</td>\n",
       "      <td>-0.1275</td>\n",
       "      <td>United Kingdom</td>\n",
       "      <td>GBR</td>\n",
       "      <td>London, City of</td>\n",
       "      <td>10979000.0</td>\n",
       "      <td>0.0000</td>\n",
       "    </tr>\n",
       "    <tr>\n",
       "      <th>1</th>\n",
       "      <td>Holborn</td>\n",
       "      <td>51.5172</td>\n",
       "      <td>-0.1182</td>\n",
       "      <td>United Kingdom</td>\n",
       "      <td>GBR</td>\n",
       "      <td>Camden</td>\n",
       "      <td>13023.0</td>\n",
       "      <td>0.0093</td>\n",
       "    </tr>\n",
       "    <tr>\n",
       "      <th>2</th>\n",
       "      <td>Brixton</td>\n",
       "      <td>51.4630</td>\n",
       "      <td>-0.1060</td>\n",
       "      <td>United Kingdom</td>\n",
       "      <td>GBR</td>\n",
       "      <td>Lambeth</td>\n",
       "      <td>78536.0</td>\n",
       "      <td>0.0215</td>\n",
       "    </tr>\n",
       "    <tr>\n",
       "      <th>3</th>\n",
       "      <td>Villareal</td>\n",
       "      <td>39.9378</td>\n",
       "      <td>-0.1014</td>\n",
       "      <td>Spain</td>\n",
       "      <td>ESP</td>\n",
       "      <td>Valencia</td>\n",
       "      <td>50893.0</td>\n",
       "      <td>0.0261</td>\n",
       "    </tr>\n",
       "    <tr>\n",
       "      <th>4</th>\n",
       "      <td>Spitalfields</td>\n",
       "      <td>51.5166</td>\n",
       "      <td>-0.0750</td>\n",
       "      <td>United Kingdom</td>\n",
       "      <td>GBR</td>\n",
       "      <td>Tower Hamlets</td>\n",
       "      <td>10286.0</td>\n",
       "      <td>0.0525</td>\n",
       "    </tr>\n",
       "    <tr>\n",
       "      <th>...</th>\n",
       "      <td>...</td>\n",
       "      <td>...</td>\n",
       "      <td>...</td>\n",
       "      <td>...</td>\n",
       "      <td>...</td>\n",
       "      <td>...</td>\n",
       "      <td>...</td>\n",
       "      <td>...</td>\n",
       "    </tr>\n",
       "    <tr>\n",
       "      <th>1324</th>\n",
       "      <td>Wembley</td>\n",
       "      <td>51.5528</td>\n",
       "      <td>-0.2979</td>\n",
       "      <td>United Kingdom</td>\n",
       "      <td>GBR</td>\n",
       "      <td>Brent</td>\n",
       "      <td>102856.0</td>\n",
       "      <td>359.8296</td>\n",
       "    </tr>\n",
       "    <tr>\n",
       "      <th>1325</th>\n",
       "      <td>Acton</td>\n",
       "      <td>51.5135</td>\n",
       "      <td>-0.2707</td>\n",
       "      <td>United Kingdom</td>\n",
       "      <td>GBR</td>\n",
       "      <td>Ealing</td>\n",
       "      <td>62480.0</td>\n",
       "      <td>359.8568</td>\n",
       "    </tr>\n",
       "    <tr>\n",
       "      <th>1326</th>\n",
       "      <td>Ewell</td>\n",
       "      <td>51.3500</td>\n",
       "      <td>-0.2490</td>\n",
       "      <td>United Kingdom</td>\n",
       "      <td>GBR</td>\n",
       "      <td>Surrey</td>\n",
       "      <td>34872.0</td>\n",
       "      <td>359.8785</td>\n",
       "    </tr>\n",
       "    <tr>\n",
       "      <th>1327</th>\n",
       "      <td>Wandsworth</td>\n",
       "      <td>51.4550</td>\n",
       "      <td>-0.1920</td>\n",
       "      <td>United Kingdom</td>\n",
       "      <td>GBR</td>\n",
       "      <td>Wandsworth</td>\n",
       "      <td>61594.0</td>\n",
       "      <td>359.9355</td>\n",
       "    </tr>\n",
       "    <tr>\n",
       "      <th>1328</th>\n",
       "      <td>London</td>\n",
       "      <td>51.5072</td>\n",
       "      <td>-0.1275</td>\n",
       "      <td>United Kingdom</td>\n",
       "      <td>GBR</td>\n",
       "      <td>London, City of</td>\n",
       "      <td>10979000.0</td>\n",
       "      <td>360.0000</td>\n",
       "    </tr>\n",
       "  </tbody>\n",
       "</table>\n",
       "<p>1329 rows × 8 columns</p>\n",
       "</div>"
      ],
      "text/plain": [
       "              city      lat     lng         country iso3       admin_name  \\\n",
       "0           London  51.5072 -0.1275  United Kingdom  GBR  London, City of   \n",
       "1          Holborn  51.5172 -0.1182  United Kingdom  GBR           Camden   \n",
       "2          Brixton  51.4630 -0.1060  United Kingdom  GBR          Lambeth   \n",
       "3        Villareal  39.9378 -0.1014           Spain  ESP         Valencia   \n",
       "4     Spitalfields  51.5166 -0.0750  United Kingdom  GBR    Tower Hamlets   \n",
       "...            ...      ...     ...             ...  ...              ...   \n",
       "1324       Wembley  51.5528 -0.2979  United Kingdom  GBR            Brent   \n",
       "1325         Acton  51.5135 -0.2707  United Kingdom  GBR           Ealing   \n",
       "1326         Ewell  51.3500 -0.2490  United Kingdom  GBR           Surrey   \n",
       "1327    Wandsworth  51.4550 -0.1920  United Kingdom  GBR       Wandsworth   \n",
       "1328        London  51.5072 -0.1275  United Kingdom  GBR  London, City of   \n",
       "\n",
       "      population  east_of_london  \n",
       "0     10979000.0          0.0000  \n",
       "1        13023.0          0.0093  \n",
       "2        78536.0          0.0215  \n",
       "3        50893.0          0.0261  \n",
       "4        10286.0          0.0525  \n",
       "...          ...             ...  \n",
       "1324    102856.0        359.8296  \n",
       "1325     62480.0        359.8568  \n",
       "1326     34872.0        359.8785  \n",
       "1327     61594.0        359.9355  \n",
       "1328  10979000.0        360.0000  \n",
       "\n",
       "[1329 rows x 8 columns]"
      ]
     },
     "execution_count": 4,
     "metadata": {},
     "output_type": "execute_result"
    }
   ],
   "source": [
    "df"
   ]
  },
  {
   "cell_type": "code",
   "execution_count": 5,
   "metadata": {},
   "outputs": [],
   "source": [
    "# creo una lista di oggetti City dalle righe del dataset. Si veda il file models.py per una descrizione completa della classe\n",
    "cities_list = []\n",
    "\n",
    "for index, row in df.iterrows():\n",
    "    cities_list.append(City(\n",
    "        row[\"city\"],\n",
    "        row[\"country\"],\n",
    "        row[\"iso3\"],\n",
    "        row[\"population\"],\n",
    "        row[\"lng\"],\n",
    "        row[\"lat\"],\n",
    "        row[\"east_of_london\"],\n",
    "        row[\"admin_name\"],\n",
    "        index\n",
    "    )\n",
    ")\n",
    "\n",
    "# rinomino London in London_start per distinguerla dalla Londra di arrivo nella rappresentazione degli oggetti (cfr. con implementazione\n",
    "# di __eq__ nella classe)\n",
    "cities_list[0].city = 'London_start' "
   ]
  },
  {
   "cell_type": "code",
   "execution_count": 6,
   "metadata": {},
   "outputs": [],
   "source": [
    "# creo un dizionario con tutte le distanze in km tra le citta' usando la funzione geopy.distance.great_circle sulle coordinate\n",
    "dist_dict = {}\n",
    "\n",
    "for i, p1 in enumerate(zip(df.lat, df.lng)):\n",
    "    for j, p2 in enumerate(zip(df.lat, df.lng)):\n",
    "        dist_dict[cities_list[i], cities_list[j]] = geopy.distance.great_circle(p1, p2).km\n"
   ]
  },
  {
   "cell_type": "code",
   "execution_count": 7,
   "metadata": {},
   "outputs": [],
   "source": [
    "# per ogni citta', calcola la lista delle 3 citta' piu' vicine ordinate in base alle ore per raggiungerle\n",
    "for x in cities_list:\n",
    "    x.succ = x.get_candidates_dict(cities_list, dist_dict)"
   ]
  },
  {
   "cell_type": "code",
   "execution_count": 8,
   "metadata": {},
   "outputs": [],
   "source": [
    "# calcola le citta' precedenti: se x e' nella lista di successori di un'altra citta' y -> y e' prev di x\n",
    "for x in cities_list:\n",
    "    candidates = [y for y in cities_list if y.east_of_london < x.east_of_london]\n",
    "    for y in candidates: # y e' un tuple (citta', ore di distanza)\n",
    "        for i in y.succ:\n",
    "            if x == i[0]:\n",
    "                x.prev.append((y, i[1]))\n",
    "            "
   ]
  },
  {
   "cell_type": "code",
   "execution_count": 10,
   "metadata": {},
   "outputs": [],
   "source": [
    "\n",
    "# fisso il punto di partenza e il punto di arrivo, in questo caso Londra\n",
    "london_start = cities_list[0]\n",
    "london_end = cities_list[-1]\n",
    "\n",
    "# dijkstra: abbiamo un grafo connesso, orientato. per calcolare il cammino minimo da Londra_start a Londra_end uso l'algoritmo di Dijkstra\n",
    "# implementato con uno heap come coda di priorita' nel file models\n",
    "(hours, path) = dijkstra(graph, london_start, london_end)"
   ]
  },
  {
   "cell_type": "code",
   "execution_count": 11,
   "metadata": {},
   "outputs": [
    {
     "name": "stdout",
     "output_type": "stream",
     "text": [
      "total days: 13.0\n"
     ]
    }
   ],
   "source": [
    "print(\"total days:\",hours / 24)"
   ]
  },
  {
   "cell_type": "code",
   "execution_count": 12,
   "metadata": {},
   "outputs": [
    {
     "data": {
      "text/plain": [
       "[(London_start, GBR),\n",
       " (Spitalfields, GBR),\n",
       " (Wanstead, GBR),\n",
       " (Tilbury, GBR),\n",
       " (Chatham, GBR),\n",
       " (Rainham, GBR),\n",
       " (Deinze, BEL),\n",
       " (Aachen, DEU),\n",
       " (Ratingen, DEU),\n",
       " (Heiligenhaus, DEU),\n",
       " (Lennestadt, DEU),\n",
       " (Salzkotten, DEU),\n",
       " (Bodenwerder, DEU),\n",
       " (Seesen, DEU),\n",
       " (Burg, DEU),\n",
       " (Wittenberg, DEU),\n",
       " (Erkner, DEU),\n",
       " (Wolgast, DEU),\n",
       " (Kristianstad, SWE),\n",
       " (Kungsör, SWE),\n",
       " (Kristinestad, FIN),\n",
       " (Kauhava, FIN),\n",
       " (Kuhmo, FIN),\n",
       " (Kola, RUS),\n",
       " (Amderma, RUS),\n",
       " (Ishim, RUS),\n",
       " (Tomsk, RUS),\n",
       " (Zheleznogorsk, RUS),\n",
       " (Svirsk, RUS),\n",
       " (Zabaykalsk, RUS),\n",
       " (Gannan, CHN),\n",
       " (Xinqing, CHN),\n",
       " (Korsakov, RUS),\n",
       " (Korf, RUS),\n",
       " (Kalifornsky, USA),\n",
       " (Mukilteo, USA),\n",
       " (Cavalero, USA),\n",
       " (Connell, USA),\n",
       " (Country Homes, USA),\n",
       " (Fernie, CAN),\n",
       " (Olds, CAN),\n",
       " (Weyburn, CAN),\n",
       " (Morden, CAN),\n",
       " (Sioux Lookout, CAN),\n",
       " (Rothschild, USA),\n",
       " (Ashwaubenon, USA),\n",
       " (De Pere, USA),\n",
       " (North Chicago, USA),\n",
       " (Fair Plain, USA),\n",
       " (Kendallville, USA),\n",
       " (New Haven, USA),\n",
       " (Lima, USA),\n",
       " (Dublin, USA),\n",
       " (Seville, USA),\n",
       " (Portage Lakes, USA),\n",
       " (Beachwood, USA),\n",
       " (Vernon, USA),\n",
       " (Oil City, USA),\n",
       " (Allegany, USA),\n",
       " (North Dansville, USA),\n",
       " (Granby, USA),\n",
       " (Clay, USA),\n",
       " (Hamilton, USA),\n",
       " (North Greenbush, USA),\n",
       " (Kingsbury, USA),\n",
       " (Shelburne, USA),\n",
       " (Coaticook, CAN),\n",
       " (Skowhegan, USA),\n",
       " (Chester, CAN),\n",
       " (Truro, CAN),\n",
       " (Angra do Heroísmo, PRT),\n",
       " (Nazaré, PRT),\n",
       " (Carregal do Sal, PRT),\n",
       " (Mérida, ESP),\n",
       " (Algeciras, ESP),\n",
       " (Bni Drar, MAR),\n",
       " (Bègles, FRA),\n",
       " (Ewell, GBR),\n",
       " (London, GBR)]"
      ]
     },
     "metadata": {},
     "output_type": "display_data"
    }
   ],
   "source": [
    "# percorso: \n",
    "display(path)"
   ]
  },
  {
   "cell_type": "code",
   "execution_count": 13,
   "metadata": {},
   "outputs": [
    {
     "data": {
      "application/vnd.plotly.v1+json": {
       "config": {
        "plotlyServerURL": "https://plot.ly"
       },
       "data": [
        {
         "lat": [
          51.5072,
          51.5166,
          51.5778,
          51.4606,
          51.37,
          51.36,
          50.9833,
          50.7762,
          51.3,
          51.3265,
          51.1236,
          51.6708,
          51.9667,
          51.8931,
          52.2725,
          51.8671,
          52.4167,
          54.05,
          56.0337,
          59.4227,
          62.2736,
          63.1014,
          64.125,
          68.8831,
          69.763,
          56.1167,
          56.4886,
          56.25,
          53.0833,
          49.6514,
          47.9204,
          48.2363,
          46.6333,
          60.3321,
          60.4417,
          47.9096,
          47.9846,
          46.6622,
          47.7478,
          49.5042,
          51.7928,
          49.6611,
          49.1919,
          50.1,
          44.8761,
          44.4796,
          44.4309,
          42.3172,
          42.0823,
          41.4441,
          41.0675,
          40.741,
          40.1112,
          41.0208,
          41.0034,
          41.4759,
          41.6255,
          41.4282,
          42.0869,
          42.5583,
          43.2918,
          43.1809,
          42.7897,
          42.6706,
          43.344,
          44.3905,
          45.1333,
          44.7554,
          44.65,
          45.3647,
          38.6558,
          39.6,
          40.4333,
          38.9158,
          36.1267,
          34.8281,
          44.8086,
          51.35,
          51.5072
         ],
         "lon": [
          -0.1275,
          -0.075,
          0.0286,
          0.3582,
          0.52,
          0.61,
          3.5272,
          6.0838,
          6.85,
          6.971,
          8.0681,
          8.6047,
          9.5167,
          10.1783,
          11.855,
          12.6484,
          13.75,
          13.7667,
          14.1333,
          16.1059,
          21.3778,
          23.0639,
          29.5167,
          33.0219,
          61.6677,
          69.5,
          84.9522,
          93.5333,
          103.3333,
          117.3269,
          123.51,
          129.5059,
          142.7667,
          165.8183,
          -151.1972,
          -122.3035,
          -122.0743,
          -118.8404,
          -117.4196,
          -115.0628,
          -114.1067,
          -103.8525,
          -98.1006,
          -91.9167,
          -89.6173,
          -88.0889,
          -88.0785,
          -87.8596,
          -86.4515,
          -85.2578,
          -85.0175,
          -84.1121,
          -83.1454,
          -81.8671,
          -81.5347,
          -81.503,
          -80.2189,
          -79.7035,
          -78.5212,
          -77.6915,
          -76.4408,
          -76.1955,
          -75.494,
          -73.6632,
          -73.5395,
          -73.2413,
          -71.8,
          -69.6657,
          -64.3,
          -63.28,
          -27.2153,
          -9.0667,
          -8,
          -6.3333,
          -5.4665,
          -1.9936,
          -0.5478,
          -0.249,
          -0.1275
         ],
         "marker": {
          "size": 10
         },
         "mode": "markers+lines",
         "type": "scattermapbox"
        }
       ],
       "layout": {
        "mapbox": {
         "center": {
          "lat": 45,
          "lon": 170
         },
         "style": "open-street-map",
         "zoom": 1.1
        },
        "margin": {
         "b": 0,
         "l": 0,
         "r": 0,
         "t": 0
        },
        "template": {
         "data": {
          "bar": [
           {
            "error_x": {
             "color": "#2a3f5f"
            },
            "error_y": {
             "color": "#2a3f5f"
            },
            "marker": {
             "line": {
              "color": "#E5ECF6",
              "width": 0.5
             },
             "pattern": {
              "fillmode": "overlay",
              "size": 10,
              "solidity": 0.2
             }
            },
            "type": "bar"
           }
          ],
          "barpolar": [
           {
            "marker": {
             "line": {
              "color": "#E5ECF6",
              "width": 0.5
             },
             "pattern": {
              "fillmode": "overlay",
              "size": 10,
              "solidity": 0.2
             }
            },
            "type": "barpolar"
           }
          ],
          "carpet": [
           {
            "aaxis": {
             "endlinecolor": "#2a3f5f",
             "gridcolor": "white",
             "linecolor": "white",
             "minorgridcolor": "white",
             "startlinecolor": "#2a3f5f"
            },
            "baxis": {
             "endlinecolor": "#2a3f5f",
             "gridcolor": "white",
             "linecolor": "white",
             "minorgridcolor": "white",
             "startlinecolor": "#2a3f5f"
            },
            "type": "carpet"
           }
          ],
          "choropleth": [
           {
            "colorbar": {
             "outlinewidth": 0,
             "ticks": ""
            },
            "type": "choropleth"
           }
          ],
          "contour": [
           {
            "colorbar": {
             "outlinewidth": 0,
             "ticks": ""
            },
            "colorscale": [
             [
              0,
              "#0d0887"
             ],
             [
              0.1111111111111111,
              "#46039f"
             ],
             [
              0.2222222222222222,
              "#7201a8"
             ],
             [
              0.3333333333333333,
              "#9c179e"
             ],
             [
              0.4444444444444444,
              "#bd3786"
             ],
             [
              0.5555555555555556,
              "#d8576b"
             ],
             [
              0.6666666666666666,
              "#ed7953"
             ],
             [
              0.7777777777777778,
              "#fb9f3a"
             ],
             [
              0.8888888888888888,
              "#fdca26"
             ],
             [
              1,
              "#f0f921"
             ]
            ],
            "type": "contour"
           }
          ],
          "contourcarpet": [
           {
            "colorbar": {
             "outlinewidth": 0,
             "ticks": ""
            },
            "type": "contourcarpet"
           }
          ],
          "heatmap": [
           {
            "colorbar": {
             "outlinewidth": 0,
             "ticks": ""
            },
            "colorscale": [
             [
              0,
              "#0d0887"
             ],
             [
              0.1111111111111111,
              "#46039f"
             ],
             [
              0.2222222222222222,
              "#7201a8"
             ],
             [
              0.3333333333333333,
              "#9c179e"
             ],
             [
              0.4444444444444444,
              "#bd3786"
             ],
             [
              0.5555555555555556,
              "#d8576b"
             ],
             [
              0.6666666666666666,
              "#ed7953"
             ],
             [
              0.7777777777777778,
              "#fb9f3a"
             ],
             [
              0.8888888888888888,
              "#fdca26"
             ],
             [
              1,
              "#f0f921"
             ]
            ],
            "type": "heatmap"
           }
          ],
          "heatmapgl": [
           {
            "colorbar": {
             "outlinewidth": 0,
             "ticks": ""
            },
            "colorscale": [
             [
              0,
              "#0d0887"
             ],
             [
              0.1111111111111111,
              "#46039f"
             ],
             [
              0.2222222222222222,
              "#7201a8"
             ],
             [
              0.3333333333333333,
              "#9c179e"
             ],
             [
              0.4444444444444444,
              "#bd3786"
             ],
             [
              0.5555555555555556,
              "#d8576b"
             ],
             [
              0.6666666666666666,
              "#ed7953"
             ],
             [
              0.7777777777777778,
              "#fb9f3a"
             ],
             [
              0.8888888888888888,
              "#fdca26"
             ],
             [
              1,
              "#f0f921"
             ]
            ],
            "type": "heatmapgl"
           }
          ],
          "histogram": [
           {
            "marker": {
             "pattern": {
              "fillmode": "overlay",
              "size": 10,
              "solidity": 0.2
             }
            },
            "type": "histogram"
           }
          ],
          "histogram2d": [
           {
            "colorbar": {
             "outlinewidth": 0,
             "ticks": ""
            },
            "colorscale": [
             [
              0,
              "#0d0887"
             ],
             [
              0.1111111111111111,
              "#46039f"
             ],
             [
              0.2222222222222222,
              "#7201a8"
             ],
             [
              0.3333333333333333,
              "#9c179e"
             ],
             [
              0.4444444444444444,
              "#bd3786"
             ],
             [
              0.5555555555555556,
              "#d8576b"
             ],
             [
              0.6666666666666666,
              "#ed7953"
             ],
             [
              0.7777777777777778,
              "#fb9f3a"
             ],
             [
              0.8888888888888888,
              "#fdca26"
             ],
             [
              1,
              "#f0f921"
             ]
            ],
            "type": "histogram2d"
           }
          ],
          "histogram2dcontour": [
           {
            "colorbar": {
             "outlinewidth": 0,
             "ticks": ""
            },
            "colorscale": [
             [
              0,
              "#0d0887"
             ],
             [
              0.1111111111111111,
              "#46039f"
             ],
             [
              0.2222222222222222,
              "#7201a8"
             ],
             [
              0.3333333333333333,
              "#9c179e"
             ],
             [
              0.4444444444444444,
              "#bd3786"
             ],
             [
              0.5555555555555556,
              "#d8576b"
             ],
             [
              0.6666666666666666,
              "#ed7953"
             ],
             [
              0.7777777777777778,
              "#fb9f3a"
             ],
             [
              0.8888888888888888,
              "#fdca26"
             ],
             [
              1,
              "#f0f921"
             ]
            ],
            "type": "histogram2dcontour"
           }
          ],
          "mesh3d": [
           {
            "colorbar": {
             "outlinewidth": 0,
             "ticks": ""
            },
            "type": "mesh3d"
           }
          ],
          "parcoords": [
           {
            "line": {
             "colorbar": {
              "outlinewidth": 0,
              "ticks": ""
             }
            },
            "type": "parcoords"
           }
          ],
          "pie": [
           {
            "automargin": true,
            "type": "pie"
           }
          ],
          "scatter": [
           {
            "fillpattern": {
             "fillmode": "overlay",
             "size": 10,
             "solidity": 0.2
            },
            "type": "scatter"
           }
          ],
          "scatter3d": [
           {
            "line": {
             "colorbar": {
              "outlinewidth": 0,
              "ticks": ""
             }
            },
            "marker": {
             "colorbar": {
              "outlinewidth": 0,
              "ticks": ""
             }
            },
            "type": "scatter3d"
           }
          ],
          "scattercarpet": [
           {
            "marker": {
             "colorbar": {
              "outlinewidth": 0,
              "ticks": ""
             }
            },
            "type": "scattercarpet"
           }
          ],
          "scattergeo": [
           {
            "marker": {
             "colorbar": {
              "outlinewidth": 0,
              "ticks": ""
             }
            },
            "type": "scattergeo"
           }
          ],
          "scattergl": [
           {
            "marker": {
             "colorbar": {
              "outlinewidth": 0,
              "ticks": ""
             }
            },
            "type": "scattergl"
           }
          ],
          "scattermapbox": [
           {
            "marker": {
             "colorbar": {
              "outlinewidth": 0,
              "ticks": ""
             }
            },
            "type": "scattermapbox"
           }
          ],
          "scatterpolar": [
           {
            "marker": {
             "colorbar": {
              "outlinewidth": 0,
              "ticks": ""
             }
            },
            "type": "scatterpolar"
           }
          ],
          "scatterpolargl": [
           {
            "marker": {
             "colorbar": {
              "outlinewidth": 0,
              "ticks": ""
             }
            },
            "type": "scatterpolargl"
           }
          ],
          "scatterternary": [
           {
            "marker": {
             "colorbar": {
              "outlinewidth": 0,
              "ticks": ""
             }
            },
            "type": "scatterternary"
           }
          ],
          "surface": [
           {
            "colorbar": {
             "outlinewidth": 0,
             "ticks": ""
            },
            "colorscale": [
             [
              0,
              "#0d0887"
             ],
             [
              0.1111111111111111,
              "#46039f"
             ],
             [
              0.2222222222222222,
              "#7201a8"
             ],
             [
              0.3333333333333333,
              "#9c179e"
             ],
             [
              0.4444444444444444,
              "#bd3786"
             ],
             [
              0.5555555555555556,
              "#d8576b"
             ],
             [
              0.6666666666666666,
              "#ed7953"
             ],
             [
              0.7777777777777778,
              "#fb9f3a"
             ],
             [
              0.8888888888888888,
              "#fdca26"
             ],
             [
              1,
              "#f0f921"
             ]
            ],
            "type": "surface"
           }
          ],
          "table": [
           {
            "cells": {
             "fill": {
              "color": "#EBF0F8"
             },
             "line": {
              "color": "white"
             }
            },
            "header": {
             "fill": {
              "color": "#C8D4E3"
             },
             "line": {
              "color": "white"
             }
            },
            "type": "table"
           }
          ]
         },
         "layout": {
          "annotationdefaults": {
           "arrowcolor": "#2a3f5f",
           "arrowhead": 0,
           "arrowwidth": 1
          },
          "autotypenumbers": "strict",
          "coloraxis": {
           "colorbar": {
            "outlinewidth": 0,
            "ticks": ""
           }
          },
          "colorscale": {
           "diverging": [
            [
             0,
             "#8e0152"
            ],
            [
             0.1,
             "#c51b7d"
            ],
            [
             0.2,
             "#de77ae"
            ],
            [
             0.3,
             "#f1b6da"
            ],
            [
             0.4,
             "#fde0ef"
            ],
            [
             0.5,
             "#f7f7f7"
            ],
            [
             0.6,
             "#e6f5d0"
            ],
            [
             0.7,
             "#b8e186"
            ],
            [
             0.8,
             "#7fbc41"
            ],
            [
             0.9,
             "#4d9221"
            ],
            [
             1,
             "#276419"
            ]
           ],
           "sequential": [
            [
             0,
             "#0d0887"
            ],
            [
             0.1111111111111111,
             "#46039f"
            ],
            [
             0.2222222222222222,
             "#7201a8"
            ],
            [
             0.3333333333333333,
             "#9c179e"
            ],
            [
             0.4444444444444444,
             "#bd3786"
            ],
            [
             0.5555555555555556,
             "#d8576b"
            ],
            [
             0.6666666666666666,
             "#ed7953"
            ],
            [
             0.7777777777777778,
             "#fb9f3a"
            ],
            [
             0.8888888888888888,
             "#fdca26"
            ],
            [
             1,
             "#f0f921"
            ]
           ],
           "sequentialminus": [
            [
             0,
             "#0d0887"
            ],
            [
             0.1111111111111111,
             "#46039f"
            ],
            [
             0.2222222222222222,
             "#7201a8"
            ],
            [
             0.3333333333333333,
             "#9c179e"
            ],
            [
             0.4444444444444444,
             "#bd3786"
            ],
            [
             0.5555555555555556,
             "#d8576b"
            ],
            [
             0.6666666666666666,
             "#ed7953"
            ],
            [
             0.7777777777777778,
             "#fb9f3a"
            ],
            [
             0.8888888888888888,
             "#fdca26"
            ],
            [
             1,
             "#f0f921"
            ]
           ]
          },
          "colorway": [
           "#636efa",
           "#EF553B",
           "#00cc96",
           "#ab63fa",
           "#FFA15A",
           "#19d3f3",
           "#FF6692",
           "#B6E880",
           "#FF97FF",
           "#FECB52"
          ],
          "font": {
           "color": "#2a3f5f"
          },
          "geo": {
           "bgcolor": "white",
           "lakecolor": "white",
           "landcolor": "#E5ECF6",
           "showlakes": true,
           "showland": true,
           "subunitcolor": "white"
          },
          "hoverlabel": {
           "align": "left"
          },
          "hovermode": "closest",
          "mapbox": {
           "style": "light"
          },
          "paper_bgcolor": "white",
          "plot_bgcolor": "#E5ECF6",
          "polar": {
           "angularaxis": {
            "gridcolor": "white",
            "linecolor": "white",
            "ticks": ""
           },
           "bgcolor": "#E5ECF6",
           "radialaxis": {
            "gridcolor": "white",
            "linecolor": "white",
            "ticks": ""
           }
          },
          "scene": {
           "xaxis": {
            "backgroundcolor": "#E5ECF6",
            "gridcolor": "white",
            "gridwidth": 2,
            "linecolor": "white",
            "showbackground": true,
            "ticks": "",
            "zerolinecolor": "white"
           },
           "yaxis": {
            "backgroundcolor": "#E5ECF6",
            "gridcolor": "white",
            "gridwidth": 2,
            "linecolor": "white",
            "showbackground": true,
            "ticks": "",
            "zerolinecolor": "white"
           },
           "zaxis": {
            "backgroundcolor": "#E5ECF6",
            "gridcolor": "white",
            "gridwidth": 2,
            "linecolor": "white",
            "showbackground": true,
            "ticks": "",
            "zerolinecolor": "white"
           }
          },
          "shapedefaults": {
           "line": {
            "color": "#2a3f5f"
           }
          },
          "ternary": {
           "aaxis": {
            "gridcolor": "white",
            "linecolor": "white",
            "ticks": ""
           },
           "baxis": {
            "gridcolor": "white",
            "linecolor": "white",
            "ticks": ""
           },
           "bgcolor": "#E5ECF6",
           "caxis": {
            "gridcolor": "white",
            "linecolor": "white",
            "ticks": ""
           }
          },
          "title": {
           "x": 0.05
          },
          "xaxis": {
           "automargin": true,
           "gridcolor": "white",
           "linecolor": "white",
           "ticks": "",
           "title": {
            "standoff": 15
           },
           "zerolinecolor": "white",
           "zerolinewidth": 2
          },
          "yaxis": {
           "automargin": true,
           "gridcolor": "white",
           "linecolor": "white",
           "ticks": "",
           "title": {
            "standoff": 15
           },
           "zerolinecolor": "white",
           "zerolinewidth": 2
          }
         }
        }
       }
      }
     },
     "metadata": {},
     "output_type": "display_data"
    }
   ],
   "source": [
    "# visualizzazione del percorso su mappa tramite plotly. per un problema di poligoni non riesce a mostrare il tratto\n",
    "# che attraversa l'International Date Line\n",
    "# quindi tira una riga che torna all'inizio\n",
    "\n",
    "import plotly.graph_objects as go\n",
    "\n",
    "fig = go.Figure(go.Scattermapbox(\n",
    "    mode = \"markers+lines\",\n",
    "    lon = [x.longitude for x in path],\n",
    "    lat = [x.latitude for x in path],\n",
    "    marker = {'size': 10}))\n",
    "\n",
    "fig.update_layout(\n",
    "    margin ={'l':0,'t':0,'b':0,'r':0},\n",
    "    mapbox = {\n",
    "        'center': {'lon': 10, 'lat': 10},\n",
    "        'style': \"open-street-map\",\n",
    "        'center': {'lon': 170, 'lat': 45},\n",
    "        'zoom': 1.1})\n",
    "\n",
    "fig.show()"
   ]
  },
  {
   "cell_type": "markdown",
   "metadata": {},
   "source": [
    "### conclusioni:\n",
    "E' sicuramente possibile fare il giro del mondo in 80 giorni se si usa un dataset di dimensioni ridotte. In generale mi aspetto che all'aumentare delle dimensioni del dataset aumenti anche il numero di giorni necessari perche' ci si sposta tra citta' molto piu' ravvicinate. Purtroppo la funzione geopy.distance.great_circle per il calcolo di distanze su una geodetica e' molto lenta, e con il dataset originale avrebbe dovuto fare un numero di conti dell'ordine di (26000)^2, letale per il mio computer\n"
   ]
  }
 ],
 "metadata": {
  "kernelspec": {
   "display_name": "Python 3",
   "language": "python",
   "name": "python3"
  },
  "language_info": {
   "codemirror_mode": {
    "name": "ipython",
    "version": 3
   },
   "file_extension": ".py",
   "mimetype": "text/x-python",
   "name": "python",
   "nbconvert_exporter": "python",
   "pygments_lexer": "ipython3",
   "version": "3.8.10"
  }
 },
 "nbformat": 4,
 "nbformat_minor": 2
}
